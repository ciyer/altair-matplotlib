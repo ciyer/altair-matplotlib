{
 "cells": [
  {
   "cell_type": "markdown",
   "metadata": {},
   "source": [
    "# Bar Charts\n",
    "\n",
    "[Matplotlib Tutorial#Bar Plots](http://www.labri.fr/perso/nrougier/teaching/matplotlib/#bar-plots)\n",
    "\n",
    "In Vega-lite 2, it is not possible to build a chart in which two positive variables are plotted as bars, with the bars going in opposite directions. To do this, one of the variables needs to be scaled by -1."
   ]
  },
  {
   "cell_type": "code",
   "execution_count": 1,
   "metadata": {},
   "outputs": [],
   "source": [
    "# Imports\n",
    "import numpy as np\n",
    "import pandas as pd\n",
    "import altair as alt\n",
    "import altair.vega.v3 as vega\n",
    "\n",
    "# For inspecting Altair/Vega structures\n",
    "import json\n",
    "\n",
    "import copy"
   ]
  },
  {
   "cell_type": "code",
   "execution_count": 2,
   "metadata": {},
   "outputs": [
    {
     "data": {
      "text/html": [
       "<div>\n",
       "<style scoped>\n",
       "    .dataframe tbody tr th:only-of-type {\n",
       "        vertical-align: middle;\n",
       "    }\n",
       "\n",
       "    .dataframe tbody tr th {\n",
       "        vertical-align: top;\n",
       "    }\n",
       "\n",
       "    .dataframe thead th {\n",
       "        text-align: right;\n",
       "    }\n",
       "</style>\n",
       "<table border=\"1\" class=\"dataframe\">\n",
       "  <thead>\n",
       "    <tr style=\"text-align: right;\">\n",
       "      <th></th>\n",
       "      <th>x</th>\n",
       "      <th>variable</th>\n",
       "      <th>value</th>\n",
       "    </tr>\n",
       "  </thead>\n",
       "  <tbody>\n",
       "    <tr>\n",
       "      <th>0</th>\n",
       "      <td>0</td>\n",
       "      <td>y1</td>\n",
       "      <td>0.884916</td>\n",
       "    </tr>\n",
       "    <tr>\n",
       "      <th>1</th>\n",
       "      <td>1</td>\n",
       "      <td>y1</td>\n",
       "      <td>0.754377</td>\n",
       "    </tr>\n",
       "    <tr>\n",
       "      <th>2</th>\n",
       "      <td>2</td>\n",
       "      <td>y1</td>\n",
       "      <td>0.441312</td>\n",
       "    </tr>\n",
       "    <tr>\n",
       "      <th>3</th>\n",
       "      <td>3</td>\n",
       "      <td>y1</td>\n",
       "      <td>0.736333</td>\n",
       "    </tr>\n",
       "    <tr>\n",
       "      <th>4</th>\n",
       "      <td>4</td>\n",
       "      <td>y1</td>\n",
       "      <td>0.484930</td>\n",
       "    </tr>\n",
       "  </tbody>\n",
       "</table>\n",
       "</div>"
      ],
      "text/plain": [
       "   x variable     value\n",
       "0  0       y1  0.884916\n",
       "1  1       y1  0.754377\n",
       "2  2       y1  0.441312\n",
       "3  3       y1  0.736333\n",
       "4  4       y1  0.484930"
      ]
     },
     "execution_count": 2,
     "metadata": {},
     "output_type": "execute_result"
    }
   ],
   "source": [
    "# Create Data\n",
    "n = 12\n",
    "x = np.arange(n)\n",
    "y1 = (1-x/float(n)) * np.random.uniform(0.5, 1.0, n)\n",
    "# scale y2 by -1 to get the bars going in the opposite direction\n",
    "y2 = (1-x/float(n)) * np.random.uniform(0.5, 1.0, n)\n",
    "df = pd.DataFrame({'x':x, 'y1':y1, 'y2':y2}).melt('x')\n",
    "df.head()"
   ]
  },
  {
   "cell_type": "code",
   "execution_count": 3,
   "metadata": {},
   "outputs": [
    {
     "data": {
      "application/vnd.vegalite.v2+json": {
       "$schema": "https://vega.github.io/schema/vega-lite/v2.4.1.json",
       "config": {
        "view": {
         "height": 300,
         "width": 400
        }
       },
       "data": {
        "values": [
         {
          "value": 0.8849158773457104,
          "variable": "y1",
          "x": 0
         },
         {
          "value": 0.7543766624250499,
          "variable": "y1",
          "x": 1
         },
         {
          "value": 0.4413117097196614,
          "variable": "y1",
          "x": 2
         },
         {
          "value": 0.7363329008390103,
          "variable": "y1",
          "x": 3
         },
         {
          "value": 0.4849296603655494,
          "variable": "y1",
          "x": 4
         },
         {
          "value": 0.4750632210304177,
          "variable": "y1",
          "x": 5
         },
         {
          "value": 0.35184115413117106,
          "variable": "y1",
          "x": 6
         },
         {
          "value": 0.36654527070057186,
          "variable": "y1",
          "x": 7
         },
         {
          "value": 0.24899542068617445,
          "variable": "y1",
          "x": 8
         },
         {
          "value": 0.16352658814167426,
          "variable": "y1",
          "x": 9
         },
         {
          "value": 0.09105900281645195,
          "variable": "y1",
          "x": 10
         },
         {
          "value": 0.071078706524593,
          "variable": "y1",
          "x": 11
         },
         {
          "value": 0.5423995523722702,
          "variable": "y2",
          "x": 0
         },
         {
          "value": 0.5700327243409081,
          "variable": "y2",
          "x": 1
         },
         {
          "value": 0.5340827974138179,
          "variable": "y2",
          "x": 2
         },
         {
          "value": 0.49583814424102796,
          "variable": "y2",
          "x": 3
         },
         {
          "value": 0.34661509932660584,
          "variable": "y2",
          "x": 4
         },
         {
          "value": 0.29443623527477597,
          "variable": "y2",
          "x": 5
         },
         {
          "value": 0.4790652088593639,
          "variable": "y2",
          "x": 6
         },
         {
          "value": 0.321186894650741,
          "variable": "y2",
          "x": 7
         },
         {
          "value": 0.30709831962635464,
          "variable": "y2",
          "x": 8
         },
         {
          "value": 0.1944070333119324,
          "variable": "y2",
          "x": 9
         },
         {
          "value": 0.13136052663519332,
          "variable": "y2",
          "x": 10
         },
         {
          "value": 0.054314105450943416,
          "variable": "y2",
          "x": 11
         }
        ]
       },
       "layer": [
        {
         "encoding": {
          "color": {
           "field": "variable",
           "type": "nominal"
          },
          "x": {
           "field": "x",
           "type": "nominal"
          },
          "y": {
           "field": "display_value",
           "type": "quantitative"
          }
         },
         "mark": "bar",
         "transform": [
          {
           "as": "display_value",
           "calculate": "datum.variable == \"y1\" ? datum.value : datum.value * -1"
          }
         ],
         "width": 500
        },
        {
         "encoding": {
          "text": {
           "field": "label",
           "type": "nominal"
          },
          "x": {
           "field": "x",
           "type": "nominal"
          },
          "y": {
           "field": "label_pos",
           "type": "quantitative"
          }
         },
         "mark": {
          "align": "center",
          "baseline": "bottom",
          "type": "text"
         },
         "transform": [
          {
           "as": "label_pos",
           "calculate": "datum.variable === \"y1\" ? datum.value : -1 * (datum.value + 0.07)"
          },
          {
           "as": "label",
           "calculate": "format(datum.value, \".2f\")"
          }
         ],
         "width": 500
        }
       ]
      },
      "image/png": "[encoded data removed]",
      "text/plain": [
       "<VegaLite 2 object>\n",
       "\n",
       "If you see this message, it means the renderer has not been properly enabled\n",
       "for the frontend that you are using. For more information, see\n",
       "https://altair-viz.github.io/user_guide/troubleshooting.html\n"
      ]
     },
     "execution_count": 3,
     "metadata": {},
     "output_type": "execute_result"
    }
   ],
   "source": [
    "bars = alt.Chart(width=500).mark_bar().encode(\n",
    "    x='x:N', \n",
    "    y='display_value:Q', \n",
    "    color=alt.Color('variable')\n",
    ").transform_calculate(\n",
    "    display_value='datum.variable == \"y1\" ? datum.value : datum.value * -1',\n",
    ")\n",
    "text = alt.Chart(width=500).mark_text(\n",
    "    align='center',\n",
    "    baseline='bottom',\n",
    ").encode(\n",
    "    x='x:N', y='label_pos:Q',\n",
    "    text='label:N'\n",
    ").transform_calculate(\n",
    "    label_pos='datum.variable === \"y1\" ? datum.value : -1 * (datum.value + 0.07)',\n",
    "    label='format(datum.value, \".2f\")'\n",
    ")\n",
    "alt.layer(bars, text, data=df)"
   ]
  },
  {
   "cell_type": "markdown",
   "metadata": {},
   "source": [
    "It is possible, though, to build a bar chart with two positive variables mapped in different directions in Vega 3."
   ]
  },
  {
   "cell_type": "code",
   "execution_count": 5,
   "metadata": {},
   "outputs": [
    {
     "data": {
      "application/vnd.vega.v3+json": {
       "$schema": "https://vega.github.io/schema/vega/v3.0.json",
       "autosize": "pad",
       "axes": [
        {
         "encode": {
          "labels": {
           "update": {
            "align": {
             "value": "right"
            },
            "angle": {
             "value": 270
            },
            "baseline": {
             "value": "middle"
            }
           }
          }
         },
         "orient": "bottom",
         "scale": "x",
         "title": "x",
         "zindex": 1
        }
       ],
       "config": {
        "axisY": {
         "minExtent": 30
        }
       },
       "data": [
        {
         "name": "population",
         "values": [
          {
           "value": 0.8849158773457104,
           "variable": "y1",
           "x": 0
          },
          {
           "value": 0.7543766624250499,
           "variable": "y1",
           "x": 1
          },
          {
           "value": 0.4413117097196614,
           "variable": "y1",
           "x": 2
          },
          {
           "value": 0.7363329008390103,
           "variable": "y1",
           "x": 3
          },
          {
           "value": 0.4849296603655494,
           "variable": "y1",
           "x": 4
          },
          {
           "value": 0.4750632210304177,
           "variable": "y1",
           "x": 5
          },
          {
           "value": 0.35184115413117106,
           "variable": "y1",
           "x": 6
          },
          {
           "value": 0.36654527070057186,
           "variable": "y1",
           "x": 7
          },
          {
           "value": 0.24899542068617445,
           "variable": "y1",
           "x": 8
          },
          {
           "value": 0.16352658814167426,
           "variable": "y1",
           "x": 9
          },
          {
           "value": 0.09105900281645195,
           "variable": "y1",
           "x": 10
          },
          {
           "value": 0.071078706524593,
           "variable": "y1",
           "x": 11
          },
          {
           "value": 0.5423995523722702,
           "variable": "y2",
           "x": 0
          },
          {
           "value": 0.5700327243409081,
           "variable": "y2",
           "x": 1
          },
          {
           "value": 0.5340827974138179,
           "variable": "y2",
           "x": 2
          },
          {
           "value": 0.49583814424102796,
           "variable": "y2",
           "x": 3
          },
          {
           "value": 0.34661509932660584,
           "variable": "y2",
           "x": 4
          },
          {
           "value": 0.29443623527477597,
           "variable": "y2",
           "x": 5
          },
          {
           "value": 0.4790652088593639,
           "variable": "y2",
           "x": 6
          },
          {
           "value": 0.321186894650741,
           "variable": "y2",
           "x": 7
          },
          {
           "value": 0.30709831962635464,
           "variable": "y2",
           "x": 8
          },
          {
           "value": 0.1944070333119324,
           "variable": "y2",
           "x": 9
          },
          {
           "value": 0.13136052663519332,
           "variable": "y2",
           "x": 10
          },
          {
           "value": 0.054314105450943416,
           "variable": "y2",
           "x": 11
          }
         ]
        },
        {
         "name": "data_1",
         "source": "population",
         "transform": [
          {
           "as": "value",
           "expr": "toNumber(datum[\"value\"])",
           "type": "formula"
          },
          {
           "as": [
            "value_start",
            "value_end"
           ],
           "field": "value",
           "groupby": [
            "x",
            "variable"
           ],
           "offset": "zero",
           "sort": {
            "field": [
             "variable"
            ],
            "order": [
             "descending"
            ]
           },
           "type": "stack"
          },
          {
           "expr": "datum[\"value\"] !== null && !isNaN(datum[\"value\"])",
           "type": "filter"
          }
         ]
        },
        {
         "name": "y1",
         "source": "data_1",
         "transform": [
          {
           "expr": "datum.variable === 'y1'",
           "type": "filter"
          }
         ]
        },
        {
         "name": "y2",
         "source": "data_1",
         "transform": [
          {
           "expr": "datum.variable === 'y2'",
           "type": "filter"
          }
         ]
        }
       ],
       "height": 300,
       "legends": [
        {
         "encode": {
          "symbols": {
           "update": {
            "shape": {
             "value": "square"
            }
           }
          }
         },
         "fill": "color",
         "title": "variable"
        }
       ],
       "marks": [
        {
         "axes": [
          {
           "orient": "left",
           "scale": "y",
           "tickCount": {
            "signal": "ceil(height/80)"
           },
           "title": "value",
           "zindex": 1
          },
          {
           "domain": false,
           "grid": true,
           "gridScale": "x",
           "labels": false,
           "maxExtent": 0,
           "minExtent": 0,
           "orient": "left",
           "scale": "y",
           "tickCount": {
            "signal": "ceil(height/80)"
           },
           "ticks": false,
           "zindex": 1
          }
         ],
         "marks": [
          {
           "encode": {
            "update": {
             "fill": {
              "field": "variable",
              "scale": "color"
             },
             "width": {
              "band": true,
              "scale": "x"
             },
             "x": {
              "field": "x",
              "scale": "x"
             },
             "y": {
              "field": "value_end",
              "scale": "y"
             },
             "y2": {
              "field": "value_start",
              "scale": "y"
             }
            }
           },
           "from": {
            "data": "y1"
           },
           "name": "y1_bar",
           "style": [
            "bar"
           ],
           "type": "rect"
          },
          {
           "encode": {
            "update": {
             "align": {
              "value": "center"
             },
             "baseline": {
              "value": "bottom"
             },
             "fill": {
              "value": "black"
             },
             "text": {
              "signal": "format(datum.value, '.2f')"
             },
             "x": {
              "band": 0.5,
              "field": "x",
              "scale": "x"
             },
             "y": {
              "scale": "y",
              "signal": "datum.value"
             }
            }
           },
           "from": {
            "data": "y1"
           },
           "name": "y1_label",
           "style": [
            "text"
           ],
           "type": "text",
           "zindex": 2
          }
         ],
         "scales": [
          {
           "domain": [
            0,
            1.1
           ],
           "name": "y",
           "nice": true,
           "range": [
            {
             "signal": "height/2"
            },
            0
           ],
           "type": "linear",
           "zero": true
          }
         ],
         "type": "group"
        },
        {
         "axes": [
          {
           "orient": "left",
           "scale": "y",
           "tickCount": {
            "signal": "ceil(height/80)"
           },
           "title": "value",
           "zindex": 1
          },
          {
           "domain": false,
           "grid": true,
           "gridScale": "x",
           "labels": false,
           "maxExtent": 0,
           "minExtent": 0,
           "orient": "left",
           "scale": "y",
           "tickCount": {
            "signal": "ceil(height/80)"
           },
           "ticks": false,
           "zindex": 1
          }
         ],
         "marks": [
          {
           "encode": {
            "update": {
             "fill": {
              "field": "variable",
              "scale": "color"
             },
             "width": {
              "band": true,
              "scale": "x"
             },
             "x": {
              "field": "x",
              "scale": "x"
             },
             "y": {
              "field": "value_end",
              "scale": "y"
             },
             "y2": {
              "field": "value_start",
              "scale": "y"
             }
            }
           },
           "from": {
            "data": "y2"
           },
           "name": "y2_bar",
           "style": [
            "bar"
           ],
           "type": "rect"
          },
          {
           "encode": {
            "update": {
             "align": {
              "value": "center"
             },
             "baseline": {
              "value": "top"
             },
             "fill": {
              "value": "black"
             },
             "text": {
              "signal": "format(datum.value, '.2f')"
             },
             "x": {
              "band": 0.5,
              "field": "x",
              "scale": "x"
             },
             "y": {
              "scale": "y",
              "signal": "datum.value"
             }
            }
           },
           "from": {
            "data": "y2"
           },
           "name": "y2_label",
           "style": [
            "text"
           ],
           "type": "text",
           "zindex": 2
          }
         ],
         "scales": [
          {
           "domain": [
            0,
            1.1
           ],
           "name": "y",
           "nice": true,
           "range": [
            {
             "signal": "height/2"
            },
            {
             "signal": "height"
            }
           ],
           "type": "linear",
           "zero": true
          }
         ],
         "type": "group"
        }
       ],
       "padding": 5,
       "scales": [
        {
         "domain": {
          "fields": [
           {
            "data": "data_1",
            "field": "x"
           }
          ],
          "sort": true
         },
         "name": "x",
         "paddingInner": 0.1,
         "paddingOuter": 0.05,
         "range": [
          0,
          {
           "signal": "width"
          }
         ],
         "type": "band"
        },
        {
         "domain": {
          "data": "data_1",
          "field": "variable",
          "sort": true
         },
         "name": "color",
         "range": "category",
         "type": "ordinal"
        }
       ],
       "style": "cell",
       "width": 500
      },
      "image/png": "[encoded data removed]",
      "text/plain": [
       "<Vega 3 object>\n",
       "\n",
       "If you see this message, it means the renderer has not been properly enabled\n",
       "for the frontend that you are using. For more information, see\n",
       "https://altair-viz.github.io/user_guide/troubleshooting.html\n"
      ]
     },
     "metadata": {},
     "output_type": "display_data"
    }
   ],
   "source": [
    "y_domain = [0, 1.1]\n",
    "bar = {\n",
    "  \"type\": \"rect\",\n",
    "  \"style\": [\"bar\"],\n",
    "  \"encode\": {\n",
    "    \"update\": {\n",
    "      \"fill\": {\"scale\": \"color\", \"field\": \"variable\"},\n",
    "      \"x\": {\"scale\": \"x\", \"field\": \"x\"},\n",
    "      \"width\": {\"scale\": \"x\", \"band\": True},\n",
    "      \"y\": {\"scale\": \"y\", \"field\": \"value_end\"},\n",
    "      \"y2\": {\"scale\": \"y\", \"field\": \"value_start\"}\n",
    "    }\n",
    "  }\n",
    "}\n",
    "label = {\n",
    "  \"type\": \"text\",\n",
    "  \"style\": [\"text\"],\n",
    "  \"encode\": {\n",
    "    \"update\": {\n",
    "      \"align\": {\"value\": \"center\"},\n",
    "      \"baseline\": {\"value\": \"bottom\"},\n",
    "      \"fill\": {\"value\": \"black\"},\n",
    "      \"x\": {\"scale\": \"x\", \"field\": \"x\", \"band\": 0.5},\n",
    "      \"y\": {\"scale\": \"y\", \"signal\": \"datum.value\"},\n",
    "      \"text\": {\"signal\": \"format(datum.value, '.2f')\"}\n",
    "    }\n",
    "  },\n",
    "  \"zindex\": 2\n",
    "}\n",
    "y1_bar = copy.deepcopy(bar)\n",
    "y1_bar['name'] = 'y1_bar'\n",
    "y1_bar['from'] = {\"data\": \"y1\"}\n",
    "y1_label = copy.deepcopy(label)\n",
    "y1_label['name'] = 'y1_label'\n",
    "y1_label['from'] = {\"data\": \"y1\"}\n",
    "y1_label['encode']['update']['baseline']['value'] = 'bottom'\n",
    "\n",
    "y2_bar = copy.deepcopy(bar)\n",
    "y2_bar['name'] = 'y2_bar'\n",
    "y2_bar['from'] = {\"data\": \"y2\"}\n",
    "y2_label = copy.deepcopy(label)\n",
    "y2_label['name'] = 'y2_label'\n",
    "y2_label['from'] = {\"data\": \"y2\"}\n",
    "y2_label['encode']['update']['baseline']['value'] = 'top'\n",
    "\n",
    "y_group_axes = [\n",
    "    {\n",
    "      \"scale\": \"y\",\n",
    "      \"orient\": \"left\",\n",
    "      \"title\": \"value\",\n",
    "      \"tickCount\": {\"signal\": \"ceil(height/80)\"},\n",
    "      \"zindex\": 1\n",
    "    },\n",
    "    {\n",
    "      \"scale\": \"y\",\n",
    "      \"orient\": \"left\",\n",
    "      \"grid\": True,\n",
    "      \"tickCount\": {\"signal\": \"ceil(height/80)\"},\n",
    "      \"gridScale\": \"x\",\n",
    "      \"domain\": False,\n",
    "      \"labels\": False,\n",
    "      \"maxExtent\": 0,\n",
    "      \"minExtent\": 0,\n",
    "      \"ticks\": False,\n",
    "      \"zindex\": 1\n",
    "    }\n",
    "]\n",
    "\n",
    "spec = {\n",
    "  \"$schema\": \"https://vega.github.io/schema/vega/v3.0.json\",\n",
    "  \"autosize\": \"pad\",\n",
    "  \"padding\": 5,\n",
    "  \"width\": 500,\n",
    "  \"height\": 300,\n",
    "  \"style\": \"cell\",\n",
    "  \"data\": [\n",
    "    {\n",
    "      \"name\": \"population\",\n",
    "      \"values\": df.apply(lambda x: x.to_dict(), 1).tolist()\n",
    "    },\n",
    "    {\n",
    "      \"name\": \"data_1\",\n",
    "      \"source\": \"population\",\n",
    "      \"transform\": [\n",
    "        {\n",
    "          \"type\": \"formula\",\n",
    "          \"expr\": \"toNumber(datum[\\\"value\\\"])\",\n",
    "          \"as\": \"value\"\n",
    "        },\n",
    "        {\n",
    "          \"type\": \"stack\",\n",
    "          \"groupby\": [\"x\", \"variable\"],\n",
    "          \"field\": \"value\",\n",
    "          \"sort\": {\"field\": [\"variable\"], \"order\": [\"descending\"]},\n",
    "          \"as\": [\"value_start\", \"value_end\"],\n",
    "          \"offset\": \"zero\"\n",
    "        },\n",
    "        {\n",
    "          \"type\": \"filter\",\n",
    "          \"expr\": \"datum[\\\"value\\\"] !== null && !isNaN(datum[\\\"value\\\"])\"\n",
    "        }\n",
    "      ]\n",
    "    },\n",
    "    {\n",
    "      \"name\": \"y1\",\n",
    "      \"source\": \"data_1\",\n",
    "      \"transform\": [\n",
    "        {\n",
    "          \"type\": \"filter\",\n",
    "          \"expr\": \"datum.variable === 'y1'\"\n",
    "        }\n",
    "      ]\n",
    "    },\n",
    "    {\n",
    "      \"name\": \"y2\",\n",
    "      \"source\": \"data_1\",\n",
    "      \"transform\": [\n",
    "        {\n",
    "          \"type\": \"filter\",\n",
    "          \"expr\": \"datum.variable === 'y2'\"\n",
    "        }\n",
    "      ]\n",
    "    }\n",
    "  ],\n",
    "  \"marks\": [\n",
    "    {\n",
    "      \"type\": \"group\",\n",
    "      \"scales\": [\n",
    "        {\n",
    "          \"name\": \"y\",\n",
    "          \"type\": \"linear\",\n",
    "          \"domain\": y_domain,\n",
    "          \"range\": [{\"signal\": \"height/2\"}, 0],\n",
    "          \"nice\": True,\n",
    "          \"zero\": True\n",
    "        }\n",
    "      ],\n",
    "      \"marks\": [y1_bar, y1_label],\n",
    "      \"axes\": y_group_axes\n",
    "    },\n",
    "    {\n",
    "      \"type\": \"group\",\n",
    "      \"scales\": [\n",
    "        {\n",
    "          \"name\": \"y\",\n",
    "          \"type\": \"linear\",\n",
    "          \"domain\": y_domain,\n",
    "          \"range\": [{\"signal\": \"height/2\"}, {\"signal\": \"height\"}],\n",
    "          \"nice\": True,\n",
    "          \"zero\": True\n",
    "        }\n",
    "      ],\n",
    "      \"axes\": y_group_axes,\n",
    "      \"marks\": [y2_bar, y2_label]\n",
    "    }\n",
    "  ],\n",
    "  \"scales\": [\n",
    "    {\n",
    "      \"name\": \"x\",\n",
    "      \"type\": \"band\",\n",
    "      \"domain\": {\n",
    "        \"fields\": [\n",
    "          {\"data\": \"data_1\", \"field\": \"x\"}\n",
    "        ],\n",
    "        \"sort\": True\n",
    "      },\n",
    "      \"range\": [0, {\"signal\": \"width\"}],\n",
    "      \"paddingInner\": 0.1,\n",
    "      \"paddingOuter\": 0.05\n",
    "    },\n",
    "    {\n",
    "      \"name\": \"color\",\n",
    "      \"type\": \"ordinal\",\n",
    "      \"domain\": {\"data\": \"data_1\", \"field\": \"variable\", \"sort\": True},\n",
    "      \"range\": \"category\"\n",
    "    }\n",
    "  ],\n",
    "  \"axes\": [\n",
    "    {\n",
    "      \"scale\": \"x\",\n",
    "      \"orient\": \"bottom\",\n",
    "      \"title\": \"x\",\n",
    "      \"encode\": {\n",
    "        \"labels\": {\n",
    "          \"update\": {\n",
    "            \"angle\": {\"value\": 270},\n",
    "            \"align\": {\"value\": \"right\"},\n",
    "            \"baseline\": {\"value\": \"middle\"}\n",
    "          }\n",
    "        }\n",
    "      },\n",
    "      \"zindex\": 1\n",
    "    }\n",
    "  ],\n",
    "  \"legends\": [\n",
    "    {\n",
    "      \"fill\": \"color\",\n",
    "      \"title\": \"variable\",\n",
    "      \"encode\": {\"symbols\": {\"update\": {\"shape\": {\"value\": \"square\"}}}}\n",
    "    }\n",
    "  ],\n",
    "  \"config\": {\"axisY\": {\"minExtent\": 30}}\n",
    "}\n",
    "vega.vega(spec)"
   ]
  },
  {
   "cell_type": "code",
   "execution_count": null,
   "metadata": {},
   "outputs": [],
   "source": []
  }
 ],
 "metadata": {
  "kernelspec": {
   "display_name": "Python 3",
   "language": "python",
   "name": "python3"
  },
  "language_info": {
   "codemirror_mode": {
    "name": "ipython",
    "version": 3
   },
   "file_extension": ".py",
   "mimetype": "text/x-python",
   "name": "python",
   "nbconvert_exporter": "python",
   "pygments_lexer": "ipython3",
   "version": "3.6.4"
  }
 },
 "nbformat": 4,
 "nbformat_minor": 2
}
