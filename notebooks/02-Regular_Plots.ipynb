{
 "cells": [
  {
   "cell_type": "markdown",
   "metadata": {},
   "source": [
    "# Regular Plots\n",
    "\n",
    "[Matplotlib Tutorial#Regular Plots](http://www.labri.fr/perso/nrougier/teaching/matplotlib/#regular-plots)"
   ]
  },
  {
   "cell_type": "code",
   "execution_count": 1,
   "metadata": {},
   "outputs": [],
   "source": [
    "# Imports\n",
    "import numpy as np\n",
    "import pandas as pd\n",
    "import altair as alt"
   ]
  },
  {
   "cell_type": "code",
   "execution_count": 9,
   "metadata": {},
   "outputs": [
    {
     "data": {
      "application/vnd.vegalite.v2+json": {
       "$schema": "https://vega.github.io/schema/vega-lite/v2.4.1.json",
       "config": {
        "view": {
         "height": 300,
         "width": 400
        }
       },
       "data": {
        "values": [
         {
          "series": "sine",
          "value": 2.4492935982947064e-16,
          "x": -6.283185307179586
         },
         {
          "series": "sine",
          "value": 0.04925994109281695,
          "x": -6.2339054224173935
         },
         {
          "series": "sine",
          "value": 0.09840027827964268,
          "x": -6.184625537655201
         },
         {
          "series": "sine",
          "value": 0.14730169805463733,
          "x": -6.135345652893008
         },
         {
          "series": "sine",
          "value": 0.1958454670071675,
          "x": -6.086065768130815
         },
         {
          "series": "sine",
          "value": 0.24391372010837756,
          "x": -6.036785883368622
         },
         {
          "series": "sine",
          "value": 0.2913897468893249,
          "x": -5.987505998606429
         },
         {
          "series": "sine",
          "value": 0.33815827481581723,
          "x": -5.9382261138442365
         },
         {
          "series": "sine",
          "value": 0.38410574917192586,
          "x": -5.888946229082044
         },
         {
          "series": "sine",
          "value": 0.4291206087726088,
          "x": -5.839666344319851
         },
         {
          "series": "sine",
          "value": 0.4730935568360106,
          "x": -5.7903864595576575
         },
         {
          "series": "sine",
          "value": 0.5159178263577515,
          "x": -5.741106574795465
         },
         {
          "series": "sine",
          "value": 0.5574894393428858,
          "x": -5.691826690033272
         },
         {
          "series": "sine",
          "value": 0.5977074592660938,
          "x": -5.642546805271079
         },
         {
          "series": "sine",
          "value": 0.6364742361471414,
          "x": -5.593266920508887
         },
         {
          "series": "sine",
          "value": 0.6736956436465571,
          "x": -5.543987035746694
         },
         {
          "series": "sine",
          "value": 0.7092813076058533,
          "x": -5.494707150984501
         },
         {
          "series": "sine",
          "value": 0.7431448254773947,
          "x": -5.445427266222308
         },
         {
          "series": "sine",
          "value": 0.77520397611113,
          "x": -5.396147381460115
         },
         {
          "series": "sine",
          "value": 0.8053809193888328,
          "x": -5.346867496697922
         },
         {
          "series": "sine",
          "value": 0.8336023852211196,
          "x": -5.29758761193573
         },
         {
          "series": "sine",
          "value": 0.8597998514483725,
          "x": -5.248307727173537
         },
         {
          "series": "sine",
          "value": 0.8839097102136123,
          "x": -5.199027842411343
         },
         {
          "series": "sine",
          "value": 0.9058734224033673,
          "x": -5.149747957649151
         },
         {
          "series": "sine",
          "value": 0.9256376597815564,
          "x": -5.100468072886958
         },
         {
          "series": "sine",
          "value": 0.9431544344712776,
          "x": -5.051188188124765
         },
         {
          "series": "sine",
          "value": 0.9583812154701223,
          "x": -5.001908303362573
         },
         {
          "series": "sine",
          "value": 0.9712810319161138,
          "x": -4.95262841860038
         },
         {
          "series": "sine",
          "value": 0.9818225628535369,
          "x": -4.903348533838187
         },
         {
          "series": "sine",
          "value": 0.989980213280707,
          "x": -4.854068649075995
         },
         {
          "series": "sine",
          "value": 0.9957341762950346,
          "x": -4.804788764313801
         },
         {
          "series": "sine",
          "value": 0.9990704811844932,
          "x": -4.755508879551608
         },
         {
          "series": "sine",
          "value": 0.9999810273487268,
          "x": -4.706228994789416
         },
         {
          "series": "sine",
          "value": 0.9984636039674339,
          "x": -4.656949110027223
         },
         {
          "series": "sine",
          "value": 0.9945218953682734,
          "x": -4.60766922526503
         },
         {
          "series": "sine",
          "value": 0.9881654720812593,
          "x": -4.558389340502837
         },
         {
          "series": "sine",
          "value": 0.9794097676013658,
          "x": -4.509109455740644
         },
         {
          "series": "sine",
          "value": 0.9682760409157588,
          "x": -4.459829570978451
         },
         {
          "series": "sine",
          "value": 0.9547913248866443,
          "x": -4.4105496862162585
         },
         {
          "series": "sine",
          "value": 0.9389883606150565,
          "x": -4.361269801454066
         },
         {
          "series": "sine",
          "value": 0.9209055179449537,
          "x": -4.311989916691873
         },
         {
          "series": "sine",
          "value": 0.9005867023006375,
          "x": -4.2627100319296805
         },
         {
          "series": "sine",
          "value": 0.8780812480836981,
          "x": -4.213430147167488
         },
         {
          "series": "sine",
          "value": 0.8534437988883162,
          "x": -4.164150262405295
         },
         {
          "series": "sine",
          "value": 0.8267341748257633,
          "x": -4.1148703776431015
         },
         {
          "series": "sine",
          "value": 0.7980172272802394,
          "x": -4.065590492880909
         },
         {
          "series": "sine",
          "value": 0.7673626814486969,
          "x": -4.016310608118716
         },
         {
          "series": "sine",
          "value": 0.7348449670469754,
          "x": -3.967030723356523
         },
         {
          "series": "sine",
          "value": 0.7005430375932908,
          "x": -3.9177508385943303
         },
         {
          "series": "sine",
          "value": 0.664540178707858,
          "x": -3.8684709538321376
         },
         {
          "series": "sine",
          "value": 0.6269238058941062,
          "x": -3.8191910690699444
         },
         {
          "series": "sine",
          "value": 0.587785252292473,
          "x": -3.7699111843077517
         },
         {
          "series": "sine",
          "value": 0.5472195469221112,
          "x": -3.720631299545559
         },
         {
          "series": "sine",
          "value": 0.5053251839489478,
          "x": -3.671351414783366
         },
         {
          "series": "sine",
          "value": 0.46220388354031305,
          "x": -3.622071530021173
         },
         {
          "series": "sine",
          "value": 0.4179603448867834,
          "x": -3.5727916452589805
         },
         {
          "series": "sine",
          "value": 0.3727019919909137,
          "x": -3.5235117604967874
         },
         {
          "series": "sine",
          "value": 0.3265387128400831,
          "x": -3.4742318757345947
         },
         {
          "series": "sine",
          "value": 0.2795825925967438,
          "x": -3.424951990972402
         },
         {
          "series": "sine",
          "value": 0.23194764145389826,
          "x": -3.3756721062102093
         },
         {
          "series": "sine",
          "value": 0.18374951781657015,
          "x": -3.326392221448016
         },
         {
          "series": "sine",
          "value": 0.1351052474813929,
          "x": -3.2771123366858235
         },
         {
          "series": "sine",
          "value": 0.08613293949614607,
          "x": -3.2278324519236308
         },
         {
          "series": "sine",
          "value": 0.03695149938914466,
          "x": -3.1785525671614376
         },
         {
          "series": "sine",
          "value": -0.01231965953523853,
          "x": -3.129272682399245
         },
         {
          "series": "sine",
          "value": -0.061560906133942786,
          "x": -3.0799927976370522
         },
         {
          "series": "sine",
          "value": -0.1106526818915011,
          "x": -3.030712912874859
         },
         {
          "series": "sine",
          "value": -0.1594757912099809,
          "x": -2.9814330281126664
         },
         {
          "series": "sine",
          "value": -0.2079116908177593,
          "x": -2.9321531433504737
         },
         {
          "series": "sine",
          "value": -0.25584277759443586,
          "x": -2.8828732585882806
         },
         {
          "series": "sine",
          "value": -0.3031526741130436,
          "x": -2.833593373826088
         },
         {
          "series": "sine",
          "value": -0.34972651120626114,
          "x": -2.784313489063895
         },
         {
          "series": "sine",
          "value": -0.3954512068705424,
          "x": -2.7350336043017025
         },
         {
          "series": "sine",
          "value": -0.44021574083098747,
          "x": -2.6857537195395094
         },
         {
          "series": "sine",
          "value": -0.4839114241003016,
          "x": -2.6364738347773167
         },
         {
          "series": "sine",
          "value": -0.5264321628773557,
          "x": -2.587193950015124
         },
         {
          "series": "sine",
          "value": -0.5676747161445903,
          "x": -2.537914065252931
         },
         {
          "series": "sine",
          "value": -0.6075389463388169,
          "x": -2.488634180490738
         },
         {
          "series": "sine",
          "value": -0.6459280624867872,
          "x": -2.4393542957285455
         },
         {
          "series": "sine",
          "value": -0.6827488552151856,
          "x": -2.3900744109663523
         },
         {
          "series": "sine",
          "value": -0.717911923064442,
          "x": -2.3407945262041596
         },
         {
          "series": "sine",
          "value": -0.7513318895568732,
          "x": -2.291514641441967
         },
         {
          "series": "sine",
          "value": -0.782927610492103,
          "x": -2.242234756679774
         },
         {
          "series": "sine",
          "value": -0.8126223709664457,
          "x": -2.192954871917581
         },
         {
          "series": "sine",
          "value": -0.8403440716378927,
          "x": -2.1436749871553884
         },
         {
          "series": "sine",
          "value": -0.8660254037844386,
          "x": -2.0943951023931957
         },
         {
          "series": "sine",
          "value": -0.8896040127307094,
          "x": -2.045115217631003
         },
         {
          "series": "sine",
          "value": -0.9110226492460884,
          "x": -1.9958353328688094
         },
         {
          "series": "sine",
          "value": -0.9302293085467404,
          "x": -1.9465554481066167
         },
         {
          "series": "sine",
          "value": -0.9471773565640402,
          "x": -1.897275563344424
         },
         {
          "series": "sine",
          "value": -0.961825643172819,
          "x": -1.8479956785822313
         },
         {
          "series": "sine",
          "value": -0.9741386021045101,
          "x": -1.7987157938200387
         },
         {
          "series": "sine",
          "value": -0.9840863373026043,
          "x": -1.749435909057846
         },
         {
          "series": "sine",
          "value": -0.9916446955107429,
          "x": -1.7001560242956524
         },
         {
          "series": "sine",
          "value": -0.9967953249171991,
          "x": -1.6508761395334597
         },
         {
          "series": "sine",
          "value": -0.9995257197133659,
          "x": -1.601596254771267
         },
         {
          "series": "sine",
          "value": -0.9998292504580527,
          "x": -1.5523163700090743
         },
         {
          "series": "sine",
          "value": -0.9977051801738729,
          "x": -1.5030364852468816
         },
         {
          "series": "sine",
          "value": -0.9931586661366362,
          "x": -1.453756600484689
         },
         {
          "series": "sine",
          "value": -0.9862007473534027,
          "x": -1.4044767157224962
         },
         {
          "series": "sine",
          "value": -0.9768483177596007,
          "x": -1.3551968309603026
         },
         {
          "series": "sine",
          "value": -0.965124085200289,
          "x": -1.30591694619811
         },
         {
          "series": "sine",
          "value": -0.9510565162951535,
          "x": -1.2566370614359172
         },
         {
          "series": "sine",
          "value": -0.9346797673211107,
          "x": -1.2073571766737246
         },
         {
          "series": "sine",
          "value": -0.9160336012803336,
          "x": -1.1580772919115319
         },
         {
          "series": "sine",
          "value": -0.8951632913550625,
          "x": -1.1087974071493392
         },
         {
          "series": "sine",
          "value": -0.8721195109836106,
          "x": -1.0595175223871456
         },
         {
          "series": "sine",
          "value": -0.846958210824467,
          "x": -1.0102376376249529
         },
         {
          "series": "sine",
          "value": -0.819740482907221,
          "x": -0.9609577528627602
         },
         {
          "series": "sine",
          "value": -0.7905324123001634,
          "x": -0.9116778681005675
         },
         {
          "series": "sine",
          "value": -0.7594049166547072,
          "x": -0.8623979833383748
         },
         {
          "series": "sine",
          "value": -0.7264335740162243,
          "x": -0.8131180985761821
         },
         {
          "series": "sine",
          "value": -0.6916984393193697,
          "x": -0.7638382138139885
         },
         {
          "series": "sine",
          "value": -0.6552838500134534,
          "x": -0.7145583290517958
         },
         {
          "series": "sine",
          "value": -0.6172782212897928,
          "x": -0.6652784442896031
         },
         {
          "series": "sine",
          "value": -0.5777738314082511,
          "x": -0.6159985595274104
         },
         {
          "series": "sine",
          "value": -0.5368665976441801,
          "x": -0.5667186747652178
         },
         {
          "series": "sine",
          "value": -0.4946558433997791,
          "x": -0.5174387900030251
         },
         {
          "series": "sine",
          "value": -0.4512440570453232,
          "x": -0.46815890524083237
         },
         {
          "series": "sine",
          "value": -0.40673664307579993,
          "x": -0.4188790204786388
         },
         {
          "series": "sine",
          "value": -0.3612416661871528,
          "x": -0.3695991357164461
         },
         {
          "series": "sine",
          "value": -0.31486958889350786,
          "x": -0.3203192509542534
         },
         {
          "series": "sine",
          "value": -0.267733003322468,
          "x": -0.2710393661920607
         },
         {
          "series": "sine",
          "value": -0.21994635783966887,
          "x": -0.221759481429868
         },
         {
          "series": "sine",
          "value": -0.17162567916636,
          "x": -0.17247959666767532
         },
         {
          "series": "sine",
          "value": -0.12288829066471377,
          "x": -0.12319971190548173
         },
         {
          "series": "sine",
          "value": -0.07385252747487375,
          "x": -0.07391982714328904
         },
         {
          "series": "sine",
          "value": -0.0246374491953819,
          "x": -0.024639942381096347
         },
         {
          "series": "sine",
          "value": 0.0246374491953819,
          "x": 0.024639942381096347
         },
         {
          "series": "sine",
          "value": 0.07385252747487375,
          "x": 0.07391982714328904
         },
         {
          "series": "sine",
          "value": 0.12288829066471377,
          "x": 0.12319971190548173
         },
         {
          "series": "sine",
          "value": 0.17162567916635915,
          "x": 0.17247959666767443
         },
         {
          "series": "sine",
          "value": 0.21994635783966887,
          "x": 0.221759481429868
         },
         {
          "series": "sine",
          "value": 0.267733003322468,
          "x": 0.2710393661920607
         },
         {
          "series": "sine",
          "value": 0.31486958889350786,
          "x": 0.3203192509542534
         },
         {
          "series": "sine",
          "value": 0.3612416661871528,
          "x": 0.3695991357164461
         },
         {
          "series": "sine",
          "value": 0.40673664307579993,
          "x": 0.4188790204786388
         },
         {
          "series": "sine",
          "value": 0.4512440570453224,
          "x": 0.4681589052408315
         },
         {
          "series": "sine",
          "value": 0.4946558433997791,
          "x": 0.5174387900030251
         },
         {
          "series": "sine",
          "value": 0.5368665976441801,
          "x": 0.5667186747652178
         },
         {
          "series": "sine",
          "value": 0.5777738314082511,
          "x": 0.6159985595274104
         },
         {
          "series": "sine",
          "value": 0.6172782212897928,
          "x": 0.6652784442896031
         },
         {
          "series": "sine",
          "value": 0.6552838500134534,
          "x": 0.7145583290517958
         },
         {
          "series": "sine",
          "value": 0.6916984393193697,
          "x": 0.7638382138139885
         },
         {
          "series": "sine",
          "value": 0.7264335740162238,
          "x": 0.8131180985761812
         },
         {
          "series": "sine",
          "value": 0.7594049166547072,
          "x": 0.8623979833383748
         },
         {
          "series": "sine",
          "value": 0.7905324123001634,
          "x": 0.9116778681005675
         },
         {
          "series": "sine",
          "value": 0.819740482907221,
          "x": 0.9609577528627602
         },
         {
          "series": "sine",
          "value": 0.846958210824467,
          "x": 1.0102376376249529
         },
         {
          "series": "sine",
          "value": 0.8721195109836106,
          "x": 1.0595175223871456
         },
         {
          "series": "sine",
          "value": 0.8951632913550621,
          "x": 1.1087974071493383
         },
         {
          "series": "sine",
          "value": 0.9160336012803336,
          "x": 1.1580772919115319
         },
         {
          "series": "sine",
          "value": 0.9346797673211107,
          "x": 1.2073571766737246
         },
         {
          "series": "sine",
          "value": 0.9510565162951535,
          "x": 1.2566370614359172
         },
         {
          "series": "sine",
          "value": 0.965124085200289,
          "x": 1.30591694619811
         },
         {
          "series": "sine",
          "value": 0.9768483177596007,
          "x": 1.3551968309603026
         },
         {
          "series": "sine",
          "value": 0.9862007473534025,
          "x": 1.4044767157224953
         },
         {
          "series": "sine",
          "value": 0.9931586661366362,
          "x": 1.453756600484689
         },
         {
          "series": "sine",
          "value": 0.9977051801738729,
          "x": 1.5030364852468816
         },
         {
          "series": "sine",
          "value": 0.9998292504580527,
          "x": 1.5523163700090743
         },
         {
          "series": "sine",
          "value": 0.9995257197133659,
          "x": 1.601596254771267
         },
         {
          "series": "sine",
          "value": 0.9967953249171991,
          "x": 1.6508761395334597
         },
         {
          "series": "sine",
          "value": 0.9916446955107429,
          "x": 1.7001560242956524
         },
         {
          "series": "sine",
          "value": 0.9840863373026043,
          "x": 1.749435909057846
         },
         {
          "series": "sine",
          "value": 0.9741386021045101,
          "x": 1.7987157938200387
         },
         {
          "series": "sine",
          "value": 0.961825643172819,
          "x": 1.8479956785822313
         },
         {
          "series": "sine",
          "value": 0.9471773565640402,
          "x": 1.897275563344424
         },
         {
          "series": "sine",
          "value": 0.9302293085467404,
          "x": 1.9465554481066167
         },
         {
          "series": "sine",
          "value": 0.9110226492460884,
          "x": 1.9958353328688094
         },
         {
          "series": "sine",
          "value": 0.8896040127307098,
          "x": 2.045115217631002
         },
         {
          "series": "sine",
          "value": 0.866025403784439,
          "x": 2.094395102393195
         },
         {
          "series": "sine",
          "value": 0.8403440716378932,
          "x": 2.1436749871553875
         },
         {
          "series": "sine",
          "value": 0.8126223709664462,
          "x": 2.19295487191758
         },
         {
          "series": "sine",
          "value": 0.7829276104921024,
          "x": 2.2422347566797747
         },
         {
          "series": "sine",
          "value": 0.751331889556873,
          "x": 2.2915146414419674
         },
         {
          "series": "sine",
          "value": 0.7179119230644417,
          "x": 2.34079452620416
         },
         {
          "series": "sine",
          "value": 0.6827488552151852,
          "x": 2.3900744109663528
         },
         {
          "series": "sine",
          "value": 0.6459280624867872,
          "x": 2.4393542957285455
         },
         {
          "series": "sine",
          "value": 0.6075389463388169,
          "x": 2.488634180490738
         },
         {
          "series": "sine",
          "value": 0.5676747161445903,
          "x": 2.537914065252931
         },
         {
          "series": "sine",
          "value": 0.5264321628773561,
          "x": 2.5871939500151235
         },
         {
          "series": "sine",
          "value": 0.48391142410030197,
          "x": 2.6364738347773162
         },
         {
          "series": "sine",
          "value": 0.44021574083098786,
          "x": 2.685753719539509
         },
         {
          "series": "sine",
          "value": 0.3954512068705432,
          "x": 2.7350336043017016
         },
         {
          "series": "sine",
          "value": 0.34972651120626197,
          "x": 2.7843134890638943
         },
         {
          "series": "sine",
          "value": 0.3031526741130445,
          "x": 2.833593373826087
         },
         {
          "series": "sine",
          "value": 0.255842777594435,
          "x": 2.8828732585882815
         },
         {
          "series": "sine",
          "value": 0.20791169081775887,
          "x": 2.932153143350474
         },
         {
          "series": "sine",
          "value": 0.15947579120998046,
          "x": 2.981433028112667
         },
         {
          "series": "sine",
          "value": 0.11065268189150065,
          "x": 3.0307129128748596
         },
         {
          "series": "sine",
          "value": 0.061560906133942786,
          "x": 3.0799927976370522
         },
         {
          "series": "sine",
          "value": 0.01231965953523853,
          "x": 3.129272682399245
         },
         {
          "series": "sine",
          "value": -0.03695149938914466,
          "x": 3.1785525671614376
         },
         {
          "series": "sine",
          "value": -0.08613293949614563,
          "x": 3.2278324519236303
         },
         {
          "series": "sine",
          "value": -0.13510524748139247,
          "x": 3.277112336685823
         },
         {
          "series": "sine",
          "value": -0.1837495178165697,
          "x": 3.3263922214480157
         },
         {
          "series": "sine",
          "value": -0.23194764145389737,
          "x": 3.3756721062102084
         },
         {
          "series": "sine",
          "value": -0.27958259259674295,
          "x": 3.424951990972401
         },
         {
          "series": "sine",
          "value": -0.3265387128400823,
          "x": 3.474231875734594
         },
         {
          "series": "sine",
          "value": -0.3727019919909145,
          "x": 3.5235117604967883
         },
         {
          "series": "sine",
          "value": -0.4179603448867838,
          "x": 3.572791645258981
         },
         {
          "series": "sine",
          "value": -0.46220388354031344,
          "x": 3.6220715300211737
         },
         {
          "series": "sine",
          "value": -0.5053251839489482,
          "x": 3.6713514147833664
         },
         {
          "series": "sine",
          "value": -0.5472195469221112,
          "x": 3.720631299545559
         },
         {
          "series": "sine",
          "value": -0.587785252292473,
          "x": 3.7699111843077517
         },
         {
          "series": "sine",
          "value": -0.6269238058941062,
          "x": 3.8191910690699444
         },
         {
          "series": "sine",
          "value": -0.6645401787078578,
          "x": 3.868470953832137
         },
         {
          "series": "sine",
          "value": -0.7005430375932906,
          "x": 3.91775083859433
         },
         {
          "series": "sine",
          "value": -0.7348449670469752,
          "x": 3.9670307233565225
         },
         {
          "series": "sine",
          "value": -0.7673626814486963,
          "x": 4.016310608118715
         },
         {
          "series": "sine",
          "value": -0.7980172272802388,
          "x": 4.065590492880908
         },
         {
          "series": "sine",
          "value": -0.8267341748257628,
          "x": 4.114870377643101
         },
         {
          "series": "sine",
          "value": -0.8534437988883162,
          "x": 4.164150262405295
         },
         {
          "series": "sine",
          "value": -0.8780812480836981,
          "x": 4.213430147167488
         },
         {
          "series": "sine",
          "value": -0.9005867023006375,
          "x": 4.2627100319296805
         },
         {
          "series": "sine",
          "value": -0.9209055179449537,
          "x": 4.311989916691873
         },
         {
          "series": "sine",
          "value": -0.9389883606150565,
          "x": 4.361269801454066
         },
         {
          "series": "sine",
          "value": -0.9547913248866443,
          "x": 4.4105496862162585
         },
         {
          "series": "sine",
          "value": -0.9682760409157588,
          "x": 4.459829570978451
         },
         {
          "series": "sine",
          "value": -0.9794097676013658,
          "x": 4.509109455740644
         },
         {
          "series": "sine",
          "value": -0.9881654720812593,
          "x": 4.558389340502837
         },
         {
          "series": "sine",
          "value": -0.9945218953682733,
          "x": 4.607669225265029
         },
         {
          "series": "sine",
          "value": -0.9984636039674339,
          "x": 4.656949110027222
         },
         {
          "series": "sine",
          "value": -0.9999810273487268,
          "x": 4.706228994789415
         },
         {
          "series": "sine",
          "value": -0.9990704811844932,
          "x": 4.755508879551609
         },
         {
          "series": "sine",
          "value": -0.9957341762950345,
          "x": 4.804788764313802
         },
         {
          "series": "sine",
          "value": -0.989980213280707,
          "x": 4.854068649075995
         },
         {
          "series": "sine",
          "value": -0.9818225628535369,
          "x": 4.903348533838187
         },
         {
          "series": "sine",
          "value": -0.9712810319161138,
          "x": 4.95262841860038
         },
         {
          "series": "sine",
          "value": -0.9583812154701223,
          "x": 5.001908303362573
         },
         {
          "series": "sine",
          "value": -0.9431544344712776,
          "x": 5.051188188124765
         },
         {
          "series": "sine",
          "value": -0.9256376597815564,
          "x": 5.100468072886958
         },
         {
          "series": "sine",
          "value": -0.9058734224033673,
          "x": 5.149747957649151
         },
         {
          "series": "sine",
          "value": -0.8839097102136123,
          "x": 5.199027842411343
         },
         {
          "series": "sine",
          "value": -0.8597998514483729,
          "x": 5.248307727173536
         },
         {
          "series": "sine",
          "value": -0.8336023852211201,
          "x": 5.297587611935729
         },
         {
          "series": "sine",
          "value": -0.8053809193888333,
          "x": 5.3468674966979215
         },
         {
          "series": "sine",
          "value": -0.7752039761111296,
          "x": 5.396147381460116
         },
         {
          "series": "sine",
          "value": -0.743144825477394,
          "x": 5.445427266222309
         },
         {
          "series": "sine",
          "value": -0.7092813076058533,
          "x": 5.494707150984501
         },
         {
          "series": "sine",
          "value": -0.6736956436465571,
          "x": 5.543987035746694
         },
         {
          "series": "sine",
          "value": -0.6364742361471414,
          "x": 5.593266920508887
         },
         {
          "series": "sine",
          "value": -0.5977074592660938,
          "x": 5.642546805271079
         },
         {
          "series": "sine",
          "value": -0.5574894393428858,
          "x": 5.691826690033272
         },
         {
          "series": "sine",
          "value": -0.5159178263577515,
          "x": 5.741106574795465
         },
         {
          "series": "sine",
          "value": -0.4730935568360106,
          "x": 5.7903864595576575
         },
         {
          "series": "sine",
          "value": -0.4291206087726096,
          "x": 5.83966634431985
         },
         {
          "series": "sine",
          "value": -0.38410574917192664,
          "x": 5.888946229082043
         },
         {
          "series": "sine",
          "value": -0.33815827481581806,
          "x": 5.938226113844236
         },
         {
          "series": "sine",
          "value": -0.29138974688932573,
          "x": 5.987505998606428
         },
         {
          "series": "sine",
          "value": -0.2439137201083767,
          "x": 6.036785883368623
         },
         {
          "series": "sine",
          "value": -0.19584546700716665,
          "x": 6.0860657681308155
         },
         {
          "series": "sine",
          "value": -0.14730169805463733,
          "x": 6.135345652893008
         },
         {
          "series": "sine",
          "value": -0.09840027827964268,
          "x": 6.184625537655201
         },
         {
          "series": "sine",
          "value": -0.04925994109281695,
          "x": 6.2339054224173935
         },
         {
          "series": "sine",
          "value": -2.4492935982947064e-16,
          "x": 6.283185307179586
         }
        ]
       },
       "vconcat": [
        {
         "layer": [
          {
           "encoding": {
            "x": {
             "axis": {
              "labels": false,
              "title": null
             },
             "field": "x",
             "type": "quantitative"
            },
            "y": {
             "field": "value",
             "type": "quantitative"
            }
           },
           "mark": {
            "fillOpacity": 0.3,
            "type": "area"
           },
           "transform": [
            {
             "as": "region",
             "calculate": "datum.x <= -PI ? 0 : (datum.x <= 0 ? 1 : (datum.x <= PI ? 2 : 3))"
            }
           ]
          },
          {
           "encoding": {
            "x": {
             "axis": {
              "labels": false,
              "title": null
             },
             "field": "x",
             "type": "quantitative"
            },
            "y": {
             "field": "value",
             "type": "quantitative"
            }
           },
           "mark": "line",
           "transform": [
            {
             "as": "region",
             "calculate": "datum.x <= -PI ? 0 : (datum.x <= 0 ? 1 : (datum.x <= PI ? 2 : 3))"
            }
           ]
          }
         ]
        },
        {
         "layer": [
          {
           "encoding": {
            "color": {
             "field": "region",
             "legend": null,
             "scale": {
              "range": [
               "blue",
               "red"
              ]
             },
             "type": "nominal"
            },
            "x": {
             "field": "x",
             "type": "quantitative"
            },
            "y": {
             "field": "value",
             "type": "quantitative"
            }
           },
           "mark": {
            "fillOpacity": 0.3,
            "type": "area"
           },
           "transform": [
            {
             "as": "region",
             "calculate": "datum.x <= -PI ? 0 : (datum.x <= 0 ? 1 : (datum.x <= PI ? 2 : 3))"
            }
           ]
          },
          {
           "encoding": {
            "x": {
             "field": "x",
             "type": "quantitative"
            },
            "y": {
             "field": "value",
             "type": "quantitative"
            }
           },
           "mark": "line",
           "transform": [
            {
             "as": "region",
             "calculate": "datum.x <= -PI ? 0 : (datum.x <= 0 ? 1 : (datum.x <= PI ? 2 : 3))"
            }
           ]
          }
         ]
        }
       ]
      },
      "image/png": "[encoded data removed]",
      "text/plain": [
       "<VegaLite 2 object>\n",
       "\n",
       "If you see this message, it means the renderer has not been properly enabled\n",
       "for the frontend that you are using. For more information, see\n",
       "https://altair-viz.github.io/user_guide/troubleshooting.html\n"
      ]
     },
     "execution_count": 9,
     "metadata": {},
     "output_type": "execute_result"
    }
   ],
   "source": [
    "# Create Data\n",
    "x = np.linspace(-2*np.pi, 2*np.pi, 256, endpoint=True)\n",
    "s = np.sin(x)\n",
    "df = pd.DataFrame({'x':x, 'sine':s}).melt('x')\n",
    "df.columns = ['x', 'series', 'value']\n",
    "\n",
    "# Make Chart\n",
    "chart = alt.Chart()\n",
    "chart = chart.transform_calculate(\n",
    "    region='datum.x <= -PI ? 0 : (datum.x <= 0 ? 1 : (datum.x <= PI ? 2 : 3))'\n",
    ")\n",
    "encoding = {'x':alt.X('x', axis={'title': None, 'labels': False}), 'y':'value'}\n",
    "# Use the default blue for the first chart\n",
    "chart_area = chart.mark_area(fillOpacity=0.3).encode(**encoding)\n",
    "chart_line = chart.mark_line().encode(**encoding)\n",
    "chart1 = alt.layer(chart_area, chart_line)\n",
    "\n",
    "encoding = {'x':'x', 'y':'value'}\n",
    "color_encoding = alt.Color('region:N', legend=None, scale=alt.Scale(range=['blue', 'red']))\n",
    "chart_area = chart.mark_area(fillOpacity=0.3).encode(color_encoding, **encoding)\n",
    "chart_line = chart.mark_line().encode(**encoding)\n",
    "chart2 = alt.layer(chart_area, chart_line)\n",
    "alt.vconcat(chart1, chart2, data=df)"
   ]
  },
  {
   "cell_type": "code",
   "execution_count": null,
   "metadata": {},
   "outputs": [],
   "source": []
  }
 ],
 "metadata": {
  "kernelspec": {
   "display_name": "Python 3",
   "language": "python",
   "name": "python3"
  },
  "language_info": {
   "codemirror_mode": {
    "name": "ipython",
    "version": 3
   },
   "file_extension": ".py",
   "mimetype": "text/x-python",
   "name": "python",
   "nbconvert_exporter": "python",
   "pygments_lexer": "ipython3",
   "version": "3.6.4"
  }
 },
 "nbformat": 4,
 "nbformat_minor": 2
}
